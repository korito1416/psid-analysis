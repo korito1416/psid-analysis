{
 "cells": [
  {
   "cell_type": "code",
   "execution_count": 4,
   "metadata": {},
   "outputs": [
    {
     "name": "stdout",
     "output_type": "stream",
     "text": [
      "Hello, Economics Code Camp!\n",
      "I'm running Python in a container!1\n"
     ]
    }
   ],
   "source": [
    "print(\"Hello, Economics Code Camp!\")\n",
    "\n",
    "a=1\n",
    "print(f\"I'm running Python in a container!{a}\")\n"
   ]
  },
  {
   "cell_type": "code",
   "execution_count": 3,
   "metadata": {},
   "outputs": [
    {
     "name": "stdout",
     "output_type": "stream",
     "text": [
      "US GDP growth rate 2020-2021: 8.81%\n"
     ]
    }
   ],
   "source": [
    "\n",
    "# Let's do some basic math\n",
    "gdp_2020 = 21_427_700  # US GDP in millions of dollars\n",
    "gdp_2021 = 23_315_080\n",
    "growth_rate = (gdp_2021 - gdp_2020) / gdp_2020 * 100\n",
    "\n",
    "print(f\"US GDP growth rate 2020-2021: {growth_rate:.2f}%\")"
   ]
  },
  {
   "cell_type": "code",
   "execution_count": null,
   "metadata": {},
   "outputs": [],
   "source": []
  }
 ],
 "metadata": {
  "kernelspec": {
   "display_name": ".venv",
   "language": "python",
   "name": "python3"
  },
  "language_info": {
   "codemirror_mode": {
    "name": "ipython",
    "version": 3
   },
   "file_extension": ".py",
   "mimetype": "text/x-python",
   "name": "python",
   "nbconvert_exporter": "python",
   "pygments_lexer": "ipython3",
   "version": "3.11.13"
  }
 },
 "nbformat": 4,
 "nbformat_minor": 2
}
