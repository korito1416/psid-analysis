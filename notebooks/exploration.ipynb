{
 "cells": [
  {
   "cell_type": "code",
   "execution_count": 7,
   "metadata": {},
   "outputs": [
    {
     "name": "stdout",
     "output_type": "stream",
     "text": [
      "Hello, Economics Code Camp!\n",
      "I'm running Python in a container!\n"
     ]
    }
   ],
   "source": [
    "print(\"Hello, Economics Code Camp!\")\n",
    "print(f\"I'm running Python in a container!\")\n"
   ]
  },
  {
   "cell_type": "code",
   "execution_count": 8,
   "metadata": {},
   "outputs": [
    {
     "name": "stdout",
     "output_type": "stream",
     "text": [
      "US GDP growth rate 2020-2021: 8.81%\n"
     ]
    }
   ],
   "source": [
    "\n",
    "# Let's do some basic math\n",
    "gdp_2020 = 21_427_700  # US GDP in millions of dollars\n",
    "gdp_2021 = 23_315_080\n",
    "growth_rate = (gdp_2021 - gdp_2020) / gdp_2020 * 100\n",
    "\n",
    "print(f\"US GDP growth rate 2020-2021: {growth_rate:.2f}%\")"
   ]
  },
  {
   "cell_type": "code",
   "execution_count": 9,
   "metadata": {},
   "outputs": [
    {
     "data": {
      "text/plain": [
       "PosixPath('/workspaces/psid-analysis')"
      ]
     },
     "execution_count": 9,
     "metadata": {},
     "output_type": "execute_result"
    }
   ],
   "source": [
    "import sys, pathlib\n",
    "root = pathlib.Path.cwd().parent\n",
    "sys.path.insert(0, str(root))\n",
    "root"
   ]
  },
  {
   "cell_type": "code",
   "execution_count": 10,
   "metadata": {},
   "outputs": [
    {
     "name": "stdout",
     "output_type": "stream",
     "text": [
      "{'count': 6, 'mean': 50000.0, 'variance': 107200000.0, 'skewness': 0.7703249008159384, 'kurtosis': 0.3239516039206949}\n"
     ]
    }
   ],
   "source": [
    "from src import camp\n",
    "import pandas as pd\n",
    "\n",
    "# Create some sample data\n",
    "sample_earnings = pd.Series([45000, 52000, 38000, 67000, 43000, 55000])\n",
    "result = camp.compute_moments(sample_earnings, \"earnings\")\n",
    "print(result)"
   ]
  },
  {
   "cell_type": "code",
   "execution_count": null,
   "metadata": {},
   "outputs": [],
   "source": []
  }
 ],
 "metadata": {
  "kernelspec": {
   "display_name": ".venv",
   "language": "python",
   "name": "python3"
  },
  "language_info": {
   "codemirror_mode": {
    "name": "ipython",
    "version": 3
   },
   "file_extension": ".py",
   "mimetype": "text/x-python",
   "name": "python",
   "nbconvert_exporter": "python",
   "pygments_lexer": "ipython3",
   "version": "3.11.13"
  }
 },
 "nbformat": 4,
 "nbformat_minor": 2
}
